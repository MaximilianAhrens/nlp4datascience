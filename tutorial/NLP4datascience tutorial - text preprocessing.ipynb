{
 "cells": [
  {
   "cell_type": "markdown",
   "metadata": {},
   "source": [
    "# Tutorial for NLP4datascience module\n",
    "This python module's purpose is to facilitate the use of natural language inputs (ie. text) in data science and data analysis. For the foundational implementaiton, it makes use of popular NLP elements in the python modules NLTK, Sci-Kit Learn and Gensim and offers further proprietary functionalities beyond those. "
   ]
  },
  {
   "cell_type": "markdown",
   "metadata": {},
   "source": [
    "## 1. Preprocessing data"
   ]
  },
  {
   "cell_type": "markdown",
   "metadata": {},
   "source": [
    "#### Import modules"
   ]
  },
  {
   "cell_type": "code",
   "execution_count": null,
   "metadata": {},
   "outputs": [],
   "source": [
    "import numpy as np\n",
    "import pandas as pd\n",
    "import scipy.sparse\n",
    "from tqdm import tqdm\n",
    "from nlp4datascience.datahandling.largepickle import pickle_load, pickle_dump\n",
    "from nlp4datascience.preprocessors.nlp4datascience import BagOfWords\n",
    "from nlp4datascience.preprocessors.nlp4datascience import DTM\n",
    "from gensim.models.phrases import Phrases, Phraser\n"
   ]
  },
  {
   "cell_type": "markdown",
   "metadata": {},
   "source": [
    "#### Load data"
   ]
  },
  {
   "cell_type": "code",
   "execution_count": 4,
   "metadata": {},
   "outputs": [],
   "source": [
    "text = \"<pathname>\""
   ]
  },
  {
   "cell_type": "markdown",
   "metadata": {},
   "source": [
    "#### Text data preprocesing\n",
    "BagOfWords creates an nlp4datascience-object which lets us preprocess and tokenize our text data with a few simply commands.\n",
    "min_length defines the minimum character length of words being considered. Words with fewer characters are automatically being deleted.\n",
    "ngram_length defines the the degreee of ngrams we want to extract. Set this to 1 for now. We will extract bigrams, trigrams, ngrams later via a collocation approach."
   ]
  },
  {
   "cell_type": "code",
   "execution_count": null,
   "metadata": {},
   "outputs": [],
   "source": [
    "preprocessed_text = BagOfWords(text, min_length=1, ngram_length=1)"
   ]
  },
  {
   "cell_type": "markdown",
   "metadata": {},
   "source": [
    "We now have our NLP4datascience object, called \"preprocessed_text\".\n",
    "Let's clean the text by:\n",
    "1. removing stopwords (based on NLTK stopword list + our own list)\n",
    "2. lowercasing the corpus\n",
    "3. removing punctuation\n",
    "4. removing special characters (can be customized)\n",
    "5. removing numbers (can be switched off)"
   ]
  },
  {
   "cell_type": "markdown",
   "metadata": {},
   "source": [
    "If we want to add our own stopwords to the stopword list, then add the words by using the following line of code or upload a list of words and then as preprocessed_text.custom_stopwords."
   ]
  },
  {
   "cell_type": "code",
   "execution_count": null,
   "metadata": {},
   "outputs": [],
   "source": [
    "preprocessed_text.custom_stopwords = [\"my_stopword+1\",\"my_stopword_2\",...,\"my_stopword_N\"]"
   ]
  },
  {
   "cell_type": "markdown",
   "metadata": {},
   "source": [
    "Let's clean and tokeinze our text corpus"
   ]
  },
  {
   "cell_type": "code",
   "execution_count": null,
   "metadata": {},
   "outputs": [],
   "source": [
    "preprocessed_text.clean()\n",
    "preprocessed_text.tokenize()"
   ]
  },
  {
   "cell_type": "markdown",
   "metadata": {},
   "source": [
    "Let's create unigrams via stemming (we could also use lemmatization instead)."
   ]
  },
  {
   "cell_type": "code",
   "execution_count": null,
   "metadata": {},
   "outputs": [],
   "source": [
    "preprocessed_text.stemm() # use preprocessed_text.lemmatize() if you want to use this approach instead"
   ]
  },
  {
   "cell_type": "markdown",
   "metadata": {},
   "source": [
    "Let's visually inspect the preprocessed corpus. The graph plots the ranking of the ngrams either according to a tf, df or a tf-idf weighting. Let's choose the popular tf-idf ranking."
   ]
  },
  {
   "cell_type": "code",
   "execution_count": null,
   "metadata": {},
   "outputs": [],
   "source": [
    "preprocessed_text.visualize(weight = \"tf-idf\")"
   ]
  },
  {
   "cell_type": "markdown",
   "metadata": {},
   "source": [
    "If we feel we want to cut the corpus at a certain minimum threshold of tf-idf scores, we can do this by using the following command"
   ]
  },
  {
   "cell_type": "code",
   "execution_count": null,
   "metadata": {},
   "outputs": [],
   "source": [
    "pp_text.rank_remove(rank=\"tf-idf\", items=\"uni\", cutoff = 15)"
   ]
  },
  {
   "cell_type": "markdown",
   "metadata": {},
   "source": [
    "Let's visually inspect our corpus after applying the tf-idf cutoff"
   ]
  },
  {
   "cell_type": "markdown",
   "metadata": {},
   "source": [
    "preprocessed_text.visualize(weight = \"tf-idf\")"
   ]
  },
  {
   "cell_type": "markdown",
   "metadata": {},
   "source": [
    "We could even apply another cutoff criterion, say based on document frequency, on top of the former one."
   ]
  },
  {
   "cell_type": "markdown",
   "metadata": {},
   "source": [
    "Once we are happy with our results, we can save them to our computer. The preprocessing is completed."
   ]
  },
  {
   "cell_type": "code",
   "execution_count": null,
   "metadata": {},
   "outputs": [],
   "source": [
    "preprocessed_text.save(\"pkl\", <path_where_to_save_the_file\", str(\"<filename>\"))"
   ]
  },
  {
   "cell_type": "markdown",
   "metadata": {},
   "source": [
    "## 2. Create a Document-Term-Matrix (based on unigrams)"
   ]
  },
  {
   "cell_type": "markdown",
   "metadata": {},
   "source": [
    "Load the preprocessed text corpus from step 1"
   ]
  },
  {
   "cell_type": "code",
   "execution_count": null,
   "metadata": {},
   "outputs": [],
   "source": [
    "ngrams = pickle_load(\"<preprocessed_data_from_step_1>.pkl\")\n"
   ]
  },
  {
   "cell_type": "markdown",
   "metadata": {},
   "source": [
    "Create a DTM object based on the NLP4datascience module.\n",
    "The ngram_length specifies what length of ngrams should be considered."
   ]
  },
  {
   "cell_type": "code",
   "execution_count": null,
   "metadata": {},
   "outputs": [],
   "source": [
    "dtm_unigrams = DTM(ngrams.uni_adj, ngram_length = 1)"
   ]
  },
  {
   "cell_type": "markdown",
   "metadata": {},
   "source": [
    "Create the DTM"
   ]
  },
  {
   "cell_type": "code",
   "execution_count": null,
   "metadata": {},
   "outputs": [],
   "source": [
    "dtm_unigrams.create_dtm(ngrams.uni)\n"
   ]
  },
  {
   "cell_type": "markdown",
   "metadata": {},
   "source": [
    "Save the DTM and the corresponding vocabulary list to your computer."
   ]
  },
  {
   "cell_type": "code",
   "execution_count": null,
   "metadata": {},
   "outputs": [],
   "source": [
    "dtm_sparse = dtm_unigrams.dtm\n",
    "scipy.sparse.save_npz('<path_where_to_store_the_compressed_dtm>.npz', dtm_sparse)\n",
    "pd.Series(dtm_unigrams.tokens).to_pickle('<path_where_to_store_the_compressed_dtm>.pkl')"
   ]
  },
  {
   "cell_type": "markdown",
   "metadata": {},
   "source": [
    "If we want to inspect the vocabulary, we can run the following command"
   ]
  },
  {
   "cell_type": "code",
   "execution_count": null,
   "metadata": {},
   "outputs": [],
   "source": [
    "print(dtm_unigrams.tokens)"
   ]
  },
  {
   "cell_type": "markdown",
   "metadata": {},
   "source": [
    "###### Note: \n",
    "The DTM is stored as a Compressed Sparse Row (CSR) scipy matrix. This is advantageous when the corpus is getting too large to be fully held in memory in an uncompressed form, for example, when we have millions of documents and (hundred) thousands of unique ngram terms.\n",
    "\n",
    "If you want to bring your compressed DTM into a non-compressed (ie. dense) format, use the below command"
   ]
  },
  {
   "cell_type": "code",
   "execution_count": null,
   "metadata": {},
   "outputs": [],
   "source": [
    "dtm_dense = dtm_sparse.todense()"
   ]
  },
  {
   "cell_type": "markdown",
   "metadata": {},
   "source": [
    "## 3. Create a Document-Term-Matrix (based on ngrams)"
   ]
  },
  {
   "cell_type": "code",
   "execution_count": null,
   "metadata": {},
   "outputs": [],
   "source": [
    "ngrams = pickle_load(\"C:/Users/oxmanahrens/OneDrive - Nexus365/BTR/data/cbc_example/data/ecb_statements_ngrams(tfidf15).pkl\")\n",
    "\n",
    "# create bigrams\n",
    "bigram_model = Phrases(ngrams.uni, min_count=10, threshold=10, delimiter=b' ')\n",
    "bigram_model_final = Phraser(bigram_model)\n",
    "ngrams_bi_w2v = [0]*ngrams.shape[0]\n",
    "for i, doc in enumerate(tqdm(ngrams.uni)):\n",
    "    ngrams_bi_w2v[i] = bigram_model_final[doc]\n",
    "pd.Series(ngrams_bi_w2v).to_pickle('data/cbc_example/data/bigrams_w2v_tfidf15.pkl')\n",
    "dtm_ngrams = DTM(ngrams_bi_w2v, ngram_length = 1)\n",
    "dtm_ngrams.create_dtm(ngrams_bi_w2v)\n",
    "print(len(dtm_ngrams.tokens))\n",
    "dtm_ngrams.dtm\n",
    "scipy.sparse.save_npz('C:/Users/oxmanahrens/OneDrive - Nexus365/BTR/data/cbc_example/data/dtm_bigrams_w2v_sparse_tfidf15.npz', dtm_ngrams.dtm)\n",
    "pd.Series(dtm_ngrams.tokens).to_pickle('C:/Users/oxmanahrens/OneDrive - Nexus365/BTR/data/cbc_example/data/dtm_bigrams_w2v_tokens_tfidf15.pkl')\n",
    " \n",
    "# create trigrams\n",
    "trigram_model = Phrases(ngrams_bi_w2v, min_count=10, threshold=10, delimiter=b' ')\n",
    "trigram_model_final = Phraser(trigram_model)\n",
    "ngrams_tri_w2v = [0]*ngrams.shape[0]\n",
    "for i, doc in enumerate(tqdm(ngrams_bi_w2v)):\n",
    "    ngrams_tri_w2v[i] = trigram_model_final[doc]\n",
    "pd.Series(ngrams_tri_w2v).to_pickle('data/cbc_example/data/trigrams_w2v_tfidf15.pkl')\n",
    "dtm_ngrams = DTM(ngrams_tri_w2v, ngram_length = 1)\n",
    "dtm_ngrams.create_dtm(ngrams_tri_w2v)\n",
    "print(len(dtm_ngrams.tokens))\n",
    "dtm_ngrams.dtm\n",
    "scipy.sparse.save_npz('C:/Users/oxmanahrens/OneDrive - Nexus365/BTR/data/cbc_example/data/dtm_trigrams_w2v_sparse_tfidf15.npz', dtm_ngrams.dtm)\n",
    "pd.Series(dtm_ngrams.tokens).to_pickle('C:/Users/oxmanahrens/OneDrive - Nexus365/BTR/data/cbc_example/data/dtm_trigrams_w2v_tokens_tfidf15.pkl')"
   ]
  }
 ],
 "metadata": {
  "kernelspec": {
   "display_name": "Python 3",
   "language": "python",
   "name": "python3"
  },
  "language_info": {
   "codemirror_mode": {
    "name": "ipython",
    "version": 3
   },
   "file_extension": ".py",
   "mimetype": "text/x-python",
   "name": "python",
   "nbconvert_exporter": "python",
   "pygments_lexer": "ipython3",
   "version": "3.7.4"
  }
 },
 "nbformat": 4,
 "nbformat_minor": 2
}
